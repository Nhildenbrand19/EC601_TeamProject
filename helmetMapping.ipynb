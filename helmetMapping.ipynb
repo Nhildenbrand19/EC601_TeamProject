{
 "cells": [
  {
   "cell_type": "code",
   "execution_count": 5,
   "metadata": {
    "execution": {
     "iopub.execute_input": "2021-08-19T16:50:56.509131Z",
     "iopub.status.busy": "2021-08-19T16:50:56.508511Z",
     "iopub.status.idle": "2021-08-19T16:51:06.244318Z",
     "shell.execute_reply": "2021-08-19T16:51:06.243387Z",
     "shell.execute_reply.started": "2021-08-19T16:50:56.508994Z"
    }
   },
   "outputs": [],
   "source": [
    "# Install helmet-assignment helper code\n",
    "!pip install ../input/helmet-assignment-main/ > /dev/null 2>&1\n",
    "from helmet_assignment.score import NFLAssignmentScorer, check_submission\n",
    "from helmet_assignment.features import add_track_features"
   ]
  },
  {
   "cell_type": "markdown",
   "metadata": {},
   "source": []
  },
  {
   "cell_type": "code",
   "execution_count": 6,
   "metadata": {
    "execution": {
     "iopub.execute_input": "2021-08-19T16:51:06.248272Z",
     "iopub.status.busy": "2021-08-19T16:51:06.247993Z",
     "iopub.status.idle": "2021-08-19T16:51:06.677283Z",
     "shell.execute_reply": "2021-08-19T16:51:06.676403Z",
     "shell.execute_reply.started": "2021-08-19T16:51:06.248246Z"
    }
   },
   "outputs": [],
   "source": [
    "import numpy as np\n",
    "import pandas as pd\n",
    "import itertools\n",
    "import glob\n",
    "import os\n",
    "import cv2\n",
    "from sklearn.metrics import accuracy_score\n",
    "from tqdm.auto import tqdm\n",
    "from multiprocessing import Pool\n",
    "from matplotlib import pyplot as plt\n",
    "from sklearn.cluster import KMeans\n",
    "import random"
   ]
  },
  {
   "cell_type": "markdown",
   "metadata": {},
   "source": []
  },
  {
   "cell_type": "code",
   "execution_count": 7,
   "metadata": {
    "execution": {
     "iopub.execute_input": "2021-08-19T16:51:06.679846Z",
     "iopub.status.busy": "2021-08-19T16:51:06.679458Z",
     "iopub.status.idle": "2021-08-19T16:51:11.480093Z",
     "shell.execute_reply": "2021-08-19T16:51:11.479243Z",
     "shell.execute_reply.started": "2021-08-19T16:51:06.679806Z"
    }
   },
   "outputs": [],
   "source": [
    "n_test_videos = len(os.listdir('/projectnb/ece601/NFLteam/nfl-health-and-safety-helmet-assignment/test/'))\n",
    "# Run in debug mode unless during submission\n",
    "if n_test_videos == 6:\n",
    "    debug = True\n",
    "else:\n",
    "    debug = False\n",
    "\n",
    "# Configurables\n",
    "n_debug_samples = 1\n",
    "random_state = 31\n",
    "CONF_THRE = 0.3\n",
    "max_iter = 1000\n",
    "DIG_STEP = 3\n",
    "DIG_MAX = DIG_STEP*10\n",
    "\n",
    "# Read in the data.\n",
    "\n",
    "BASE_DIR = '/projectnb/ece601/NFLteam/nfl-health-and-safety-helmet-assignment'\n",
    "\n",
    "labels = pd.read_csv(f'{BASE_DIR}/train_labels.csv')\n",
    "if debug:\n",
    "    tracking = pd.read_csv(f'{BASE_DIR}/train_player_tracking.csv')\n",
    "    helmets = pd.read_csv(f'{BASE_DIR}/train_baseline_helmets.csv')\n",
    "else:\n",
    "    tracking = pd.read_csv(f'{BASE_DIR}/test_player_tracking.csv')\n",
    "    helmets = pd.read_csv(f'{BASE_DIR}/test_baseline_helmets.csv')\n",
    "    \n",
    "tracking = add_track_features(tracking)"
   ]
  },
  {
   "cell_type": "code",
   "execution_count": 8,
   "metadata": {
    "_kg_hide-input": true,
    "execution": {
     "iopub.execute_input": "2021-08-19T16:51:11.48166Z",
     "iopub.status.busy": "2021-08-19T16:51:11.481429Z",
     "iopub.status.idle": "2021-08-19T16:51:22.416718Z",
     "shell.execute_reply": "2021-08-19T16:51:22.415695Z",
     "shell.execute_reply.started": "2021-08-19T16:51:11.481636Z"
    }
   },
   "outputs": [
    {
     "data": {
      "text/plain": [
       "((6490, 18), (8351, 8), (7266, 15))"
      ]
     },
     "execution_count": 8,
     "metadata": {},
     "output_type": "execute_result"
    }
   ],
   "source": [
    "def add_cols(df):\n",
    "    df['game_play'] = df['video_frame'].str.split('_').str[:2].str.join('_')\n",
    "    if 'video' not in df.columns:\n",
    "        df['video'] = df['video_frame'].str.split('_').str[:3].str.join('_') + '.mp4'\n",
    "    return df\n",
    "\n",
    "if debug:\n",
    "    helmets = add_cols(helmets)\n",
    "    labels = add_cols(labels)\n",
    "    # Select `n_debug_samples` worth of videos to debug with\n",
    "    sample_videos = labels['video'].drop_duplicates() \\\n",
    "        .sample(n_debug_samples, random_state=random_state).tolist()\n",
    "    sample_gameplays = ['_'.join(x.split('_')[:2]) for x in sample_videos]\n",
    "    tracking = tracking[tracking['game_play'].isin(sample_gameplays)]\n",
    "    helmets = helmets[helmets['video'].isin(sample_videos)]\n",
    "    labels = labels[labels['video'].isin(sample_videos)]\n",
    "tracking.shape, helmets.shape, labels.shape"
   ]
  },
  {
   "cell_type": "code",
   "execution_count": 9,
   "metadata": {
    "_kg_hide-input": true,
    "execution": {
     "iopub.execute_input": "2021-08-19T16:51:22.418726Z",
     "iopub.status.busy": "2021-08-19T16:51:22.418325Z",
     "iopub.status.idle": "2021-08-19T16:56:54.033258Z",
     "shell.execute_reply": "2021-08-19T16:56:54.032185Z",
     "shell.execute_reply.started": "2021-08-19T16:51:22.418684Z"
    }
   },
   "outputs": [
    {
     "data": {
      "application/vnd.jupyter.widget-view+json": {
       "model_id": "fa58c21488914f26999ed4c3e24d0563",
       "version_major": 2,
       "version_minor": 0
      },
      "text/plain": [
       "  0%|          | 0/354 [00:00<?, ?it/s]"
      ]
     },
     "metadata": {},
     "output_type": "display_data"
    }
   ],
   "source": [
    "def find_nearest(array, value):\n",
    "    value = int(value)\n",
    "    array = np.asarray(array).astype(int)\n",
    "    idx = (np.abs(array - value)).argmin()\n",
    "    return array[idx]\n",
    "\n",
    "def norm_arr(a):\n",
    "    a = a-a.min()\n",
    "    a = a/a.max()\n",
    "    return a\n",
    "    \n",
    "def dist(a1, a2):\n",
    "    return np.linalg.norm(a1-a2)\n",
    "\n",
    "def dist_for_different_len(a1, a2):\n",
    "    assert len(a1) >= len(a2), f'{len(a1)}, {len(a2)}'\n",
    "    len_diff = len(a1) - len(a2)\n",
    "    a2 = norm_arr(a2)\n",
    "    if len_diff == 0:\n",
    "        a1 = norm_arr(a1)\n",
    "        return dist(a1,a2), ()\n",
    "    else:\n",
    "        min_dist = 10000\n",
    "        min_detete_idx = None\n",
    "        cnt = 0\n",
    "        del_list = list(itertools.combinations(range(len(a1)),len_diff))\n",
    "        if len(del_list) > max_iter:\n",
    "            del_list = random.sample(del_list, max_iter)\n",
    "        for detete_idx in del_list:\n",
    "            this_a1 = np.delete(a1, detete_idx)\n",
    "            this_a1 = norm_arr(this_a1)\n",
    "            this_dist = dist(this_a1, a2)\n",
    "            #print(len(a1), len(a2), this_dist)\n",
    "            if min_dist > this_dist:\n",
    "                min_dist = this_dist\n",
    "                min_detete_idx = detete_idx\n",
    "                \n",
    "        return min_dist, min_detete_idx\n",
    "        \n",
    "def rotate_arr(u, t, deg=True):\n",
    "    if deg == True:\n",
    "        t = np.deg2rad(t)\n",
    "    R = np.array([[np.cos(t), -np.sin(t)],\n",
    "                  [np.sin(t),  np.cos(t)]])\n",
    "    return  np.dot(R, u)\n",
    "\n",
    "def dist_rot(tracking_df, a2):\n",
    "    tracking_df = tracking_df.sort_values('x')\n",
    "    x = tracking_df['x']\n",
    "    y = tracking_df['y']\n",
    "    min_dist = 10000\n",
    "    min_idx = None\n",
    "    min_x = None\n",
    "    for dig in range(-DIG_MAX,DIG_MAX+1,DIG_STEP):\n",
    "        arr = rotate_arr(np.array((x,y)), dig)\n",
    "        this_dist, this_idx = dist_for_different_len(np.sort(arr[0]), a2)\n",
    "        if min_dist > this_dist:\n",
    "            min_dist = this_dist\n",
    "            min_idx = this_idx\n",
    "            min_x = arr[0]\n",
    "    tracking_df['x_rot'] = min_x\n",
    "    player_arr = tracking_df.sort_values('x_rot')['player'].values\n",
    "    players = np.delete(player_arr,min_idx)\n",
    "    return min_dist, players\n",
    "\n",
    "\n",
    "def mapping_df(args):\n",
    "    video_frame, df = args\n",
    "    gameKey,playID,view,frame = video_frame.split('_')\n",
    "    gameKey = int(gameKey)\n",
    "    playID = int(playID)\n",
    "    frame = int(frame)\n",
    "    this_tracking = tracking[(tracking['gameKey']==gameKey) & (tracking['playID']==playID)]\n",
    "    est_frame = find_nearest(this_tracking.est_frame.values, frame)\n",
    "    this_tracking = this_tracking[this_tracking['est_frame']==est_frame]\n",
    "    len_this_tracking = len(this_tracking)\n",
    "    df['center_h_p'] = (df['left']+df['width']/2).astype(int)\n",
    "    df['center_h_m'] = (df['left']+df['width']/2).astype(int)*-1\n",
    "    df = df[df['conf']>CONF_THRE].copy()\n",
    "    if len(df) > len_this_tracking:\n",
    "        df = df.tail(len_this_tracking)\n",
    "    df_p = df.sort_values('center_h_p').copy()\n",
    "    df_m = df.sort_values('center_h_m').copy()\n",
    "    \n",
    "    if view == 'Endzone':\n",
    "        this_tracking['x'], this_tracking['y'] = this_tracking['y'].copy(), this_tracking['x'].copy()\n",
    "    a2_p = df_p['center_h_p'].values\n",
    "    a2_m = df_m['center_h_m'].values\n",
    "\n",
    "    min_dist_p, min_detete_idx_p = dist_rot(this_tracking ,a2_p)\n",
    "    min_dist_m, min_detete_idx_m = dist_rot(this_tracking ,a2_m)\n",
    "    if min_dist_p < min_dist_m:\n",
    "        min_dist = min_dist_p\n",
    "        min_detete_idx = min_detete_idx_p\n",
    "        tgt_df = df_p\n",
    "    else:\n",
    "        min_dist = min_dist_m\n",
    "        min_detete_idx = min_detete_idx_m\n",
    "        tgt_df = df_m\n",
    "    #print(video_frame, len(this_tracking), len(df), len(df[df['conf']>CONF_THRE]), this_tracking['x'].mean(), min_dist_p, min_dist_m, min_dist)\n",
    "    tgt_df['label'] = min_detete_idx\n",
    "    return tgt_df[['video_frame','left','width','top','height','label']]\n",
    "\n",
    "p = Pool(processes=4)\n",
    "submission_df_list = []\n",
    "df_list = list(helmets.groupby('video_frame'))\n",
    "with tqdm(total=len(df_list)) as pbar:\n",
    "    for this_df in p.imap(mapping_df, df_list):\n",
    "        submission_df_list.append(this_df)\n",
    "        pbar.update(1)\n",
    "p.close()\n",
    "\n",
    "submission_df = pd.concat(submission_df_list)\n",
    "submission_df.to_csv('submission-baseline.csv', index=False)"
   ]
  },
  {
   "cell_type": "code",
   "execution_count": 10,
   "metadata": {
    "execution": {
     "iopub.execute_input": "2021-08-19T16:56:54.035262Z",
     "iopub.status.busy": "2021-08-19T16:56:54.034854Z",
     "iopub.status.idle": "2021-08-19T16:56:54.367389Z",
     "shell.execute_reply": "2021-08-19T16:56:54.366725Z",
     "shell.execute_reply.started": "2021-08-19T16:56:54.035218Z"
    }
   },
   "outputs": [
    {
     "name": "stdout",
     "output_type": "stream",
     "text": [
      "validation score 0.3097\n"
     ]
    }
   ],
   "source": [
    "if debug:\n",
    "    scorer = NFLAssignmentScorer(labels)\n",
    "    baseline_score = scorer.score(submission_df)\n",
    "    print(f\"validation score {baseline_score:0.4f}\")"
   ]
  },
  {
   "cell_type": "code",
   "execution_count": 11,
   "metadata": {
    "execution": {
     "iopub.execute_input": "2021-08-19T16:56:54.368794Z",
     "iopub.status.busy": "2021-08-19T16:56:54.368389Z",
     "iopub.status.idle": "2021-08-19T16:56:55.576345Z",
     "shell.execute_reply": "2021-08-19T16:56:55.575505Z",
     "shell.execute_reply.started": "2021-08-19T16:56:54.368753Z"
    }
   },
   "outputs": [],
   "source": [
    "#import sys\n",
    "#sys.path.append('/easydict-master/easydict-master/')\n",
    "# https://github.com/mikel-brostrom/Yolov5_DeepSort_Pytorch\n",
    "#sys.path.append('/Yolov5_DeepSort_Pytorch-master/deep_sort_pytorch/')\n",
    "from Yolov5_DeepSort_Pytorch_master.deep_sort_pytorch.deep_sort.deep_sort import DeepSort\n",
    "from Yolov5_DeepSort_Pytorch_master.deep_sort_pytorch.utils.parser import get_config"
   ]
  },
  {
   "cell_type": "markdown",
   "metadata": {},
   "source": [
    "Note that the best settings for these change with different video clips"
   ]
  },
  {
   "cell_type": "code",
   "execution_count": 12,
   "metadata": {
    "execution": {
     "iopub.execute_input": "2021-08-19T16:56:55.577844Z",
     "iopub.status.busy": "2021-08-19T16:56:55.577434Z",
     "iopub.status.idle": "2021-08-19T16:56:55.5838Z",
     "shell.execute_reply": "2021-08-19T16:56:55.582955Z",
     "shell.execute_reply.started": "2021-08-19T16:56:55.577804Z"
    }
   },
   "outputs": [
    {
     "name": "stdout",
     "output_type": "stream",
     "text": [
      "Overwriting deepsort.yaml\n"
     ]
    }
   ],
   "source": [
    "%%writefile deepsort.yaml\n",
    "\n",
    "DEEPSORT:\n",
    "  REID_CKPT: \"/projectnb/ece601/NFLteam/Yolov5_DeepSort_Pytorch_master/ckpt.t7\"\n",
    "  MAX_DIST: 0.1\n",
    "  MIN_CONFIDENCE: 0.7\n",
    "  MAX_IOU_DISTANCE: 0.9\n",
    "  MAX_AGE: 35\n",
    "  N_INIT: 1\n",
    "  NN_BUDGET: 20\n"
   ]
  },
  {
   "cell_type": "code",
   "execution_count": 13,
   "metadata": {
    "_kg_hide-input": true,
    "execution": {
     "iopub.execute_input": "2021-08-19T16:56:55.58717Z",
     "iopub.status.busy": "2021-08-19T16:56:55.586814Z",
     "iopub.status.idle": "2021-08-19T16:56:55.597097Z",
     "shell.execute_reply": "2021-08-19T16:56:55.59595Z",
     "shell.execute_reply.started": "2021-08-19T16:56:55.587131Z"
    }
   },
   "outputs": [],
   "source": [
    "\"\"\"\n",
    "Helper functions from yolov5 to plot deepsort labels.\n",
    "\"\"\"\n",
    "\n",
    "def compute_color_for_id(label):\n",
    "    \"\"\"\n",
    "    Simple function that adds fixed color depending on the id\n",
    "    \"\"\"\n",
    "    palette = (2 ** 11 - 1, 2 ** 15 - 1, 2 ** 20 - 1)\n",
    "\n",
    "    color = [int((p * (label ** 2 - label + 1)) % 255) for p in palette]\n",
    "    return tuple(color)\n",
    "\n",
    "def plot_one_box(x, im, color=None, label=None, line_thickness=3):\n",
    "    # Plots one bounding box on image 'im' using OpenCV\n",
    "    assert im.data.contiguous, 'Image not contiguous. Apply np.ascontiguousarray(im) to plot_on_box() input image.'\n",
    "    tl = line_thickness or round(0.002 * (im.shape[0] + im.shape[1]) / 2) + 1  # line/font thickness\n",
    "    color = color or [random.randint(0, 255) for _ in range(3)]\n",
    "    c1, c2 = (int(x[0]), int(x[1])), (int(x[2]), int(x[3]))\n",
    "    cv2.rectangle(im, c1, c2, color, thickness=tl, lineType=cv2.LINE_AA)\n",
    "    if label: \n",
    "        tf = max(tl - 1, 1)  # font thickness\n",
    "        t_size = cv2.getTextSize(label, 0, fontScale=tl / 3, thickness=tf)[0]\n",
    "        c2 = c1[0] + t_size[0], c1[1] - t_size[1] - 3\n",
    "        cv2.rectangle(im, c1, c2, color, -1, cv2.LINE_AA)  # filled\n",
    "        cv2.putText(im, label, (c1[0], c1[1] - 2), 0, tl / 3, [225, 255, 255], thickness=tf, lineType=cv2.LINE_AA)\n",
    "    return im"
   ]
  },
  {
   "cell_type": "code",
   "execution_count": 14,
   "metadata": {
    "execution": {
     "iopub.execute_input": "2021-08-19T16:56:55.598665Z",
     "iopub.status.busy": "2021-08-19T16:56:55.598434Z",
     "iopub.status.idle": "2021-08-19T16:56:55.617838Z",
     "shell.execute_reply": "2021-08-19T16:56:55.616761Z",
     "shell.execute_reply.started": "2021-08-19T16:56:55.598642Z"
    }
   },
   "outputs": [],
   "source": [
    "def deepsort_helmets(video_data,\n",
    "                     video_dir,\n",
    "                     deepsort_config='deepsort.yaml',\n",
    "                     plot=False,\n",
    "                     plot_frames=[]):\n",
    "    \n",
    "    # Setup Deepsort\n",
    "    cfg = get_config()\n",
    "    cfg.merge_from_file(deepsort_config)    \n",
    "    deepsort = DeepSort(cfg.DEEPSORT.REID_CKPT,\n",
    "                        max_dist=cfg.DEEPSORT.MAX_DIST,\n",
    "                        min_confidence=cfg.DEEPSORT.MIN_CONFIDENCE,\n",
    "                        #nms_max_overlap=cfg.DEEPSORT.NMS_MAX_OVERLAP,\n",
    "                        max_iou_distance=cfg.DEEPSORT.MAX_IOU_DISTANCE,\n",
    "                        max_age=cfg.DEEPSORT.MAX_AGE,\n",
    "                        n_init=cfg.DEEPSORT.N_INIT,\n",
    "                        nn_budget=cfg.DEEPSORT.NN_BUDGET,\n",
    "                        use_cuda=True)\n",
    "    \n",
    "    # Run through frames.\n",
    "    video_data = video_data.sort_values('frame').reset_index(drop=True)\n",
    "    ds = []\n",
    "    for frame, d in tqdm(video_data.groupby(['frame']), total=video_data['frame'].nunique()):\n",
    "        d['x'] = (d['left'] + round(d['width'] / 2))\n",
    "        d['y'] = (d['top'] + round(d['height'] / 2))\n",
    "\n",
    "        xywhs = d[['x','y','width','height']].values\n",
    "\n",
    "        cap = cv2.VideoCapture(f'{video_dir}/{myvideo}.mp4')\n",
    "        cap.set(cv2.CAP_PROP_POS_FRAMES, frame-1) # optional\n",
    "        success, image = cap.read()\n",
    "        image = cv2.cvtColor(image, cv2.COLOR_BGR2RGB)\n",
    "\n",
    "        confs = np.ones([len(d),])\n",
    "        clss =  np.zeros([len(d),])\n",
    "        outputs = deepsort.update(xywhs, confs, clss, image)\n",
    "\n",
    "        if (plot and frame > cfg.DEEPSORT.N_INIT) or (frame in plot_frames):\n",
    "            for j, (output, conf) in enumerate(zip(outputs, confs)): \n",
    "\n",
    "                bboxes = output[0:4]\n",
    "                id = output[4]\n",
    "                cls = output[5]\n",
    "\n",
    "                c = int(cls)  # integer class\n",
    "                label = f'{id}'\n",
    "                color = compute_color_for_id(id)\n",
    "                im = plot_one_box(bboxes, image, label=label, color=color, line_thickness=2)\n",
    "            fig, ax = plt.subplots(figsize=(15, 10))\n",
    "            video_frame = d['video_frame'].values[0]\n",
    "            ax.set_title(f'Deepsort labels: {video_frame}')\n",
    "            plt.imshow(im)\n",
    "            plt.show()\n",
    "\n",
    "        preds_df = pd.DataFrame(outputs, columns=['left','top','right','bottom','deepsort_cluster','class'])\n",
    "        if len(preds_df) > 0:\n",
    "            # TODO Fix this messy merge\n",
    "            d = pd.merge_asof(d.sort_values(['left','top']),\n",
    "                              preds_df[['left','top','deepsort_cluster']] \\\n",
    "                              .sort_values(['left','top']), on='left', suffixes=('','_deepsort'),\n",
    "                              direction='nearest')\n",
    "        ds.append(d)\n",
    "    dout = pd.concat(ds)\n",
    "    return dout\n",
    "\n",
    "def add_deepsort_label_col(out):\n",
    "    # Find the top occuring label for each deepsort_cluster\n",
    "    sortlabel_map = out.groupby('deepsort_cluster')['label'].value_counts() \\\n",
    "        .sort_values(ascending=False).to_frame() \\\n",
    "        .rename(columns={'label':'label_count'}) \\\n",
    "        .reset_index() \\\n",
    "        .groupby(['deepsort_cluster']) \\\n",
    "        .first()['label'].to_dict()\n",
    "    # Find the # of times that label appears for the deepsort_cluster.\n",
    "    sortlabelcount_map = out.groupby('deepsort_cluster')['label'].value_counts() \\\n",
    "        .sort_values(ascending=False).to_frame() \\\n",
    "        .rename(columns={'label':'label_count'}) \\\n",
    "        .reset_index() \\\n",
    "        .groupby(['deepsort_cluster']) \\\n",
    "        .first()['label_count'].to_dict()\n",
    "    \n",
    "    out['label_deepsort'] = out['deepsort_cluster'].map(sortlabel_map)\n",
    "    out['label_count_deepsort'] = out['deepsort_cluster'].map(sortlabelcount_map)\n",
    "\n",
    "    return out\n",
    "\n",
    "def score_vs_deepsort(myvideo, out, labels):\n",
    "    # Score the base predictions compared to the deepsort postprocessed predictions.\n",
    "    myvideo_mp4 = myvideo + '.mp4'\n",
    "    labels_video = labels.query('video == @myvideo_mp4')\n",
    "    scorer = NFLAssignmentScorer(labels_video)\n",
    "    out_deduped = out.groupby(['video_frame','label']).first().reset_index()\n",
    "    base_video_score = scorer.score(out_deduped)\n",
    "    \n",
    "    out_preds = out.drop('label', axis=1).rename(columns={'label_deepsort':'label'})\n",
    "    print(out_preds.shape)\n",
    "    out_preds = out_preds.groupby(['video_frame','label']).first().reset_index()\n",
    "    print(out_preds.shape)\n",
    "    deepsort_video_score = scorer.score(out_preds)\n",
    "    print(f'{base_video_score:0.5f} before --> {deepsort_video_score:0.5f} deepsort')"
   ]
  },
  {
   "cell_type": "markdown",
   "metadata": {},
   "source": [
    "Start applying deepsort"
   ]
  },
  {
   "cell_type": "code",
   "execution_count": 15,
   "metadata": {
    "execution": {
     "iopub.execute_input": "2021-08-19T16:56:55.619556Z",
     "iopub.status.busy": "2021-08-19T16:56:55.619302Z"
    },
    "scrolled": false
   },
   "outputs": [
    {
     "data": {
      "application/vnd.jupyter.widget-view+json": {
       "model_id": "b64d4eb95edc40dda4f79c2f681bddd5",
       "version_major": 2,
       "version_minor": 0
      },
      "text/plain": [
       "  0%|          | 0/1 [00:00<?, ?it/s]"
      ]
     },
     "metadata": {},
     "output_type": "display_data"
    },
    {
     "name": "stdout",
     "output_type": "stream",
     "text": [
      "==== 57790_002839_Sideline ====\n"
     ]
    },
    {
     "name": "stderr",
     "output_type": "stream",
     "text": [
      "/share/pkg.7/pytorch/1.9.0/install/lib/python3.8/site-packages/torch/cuda/__init__.py:83: UserWarning: \n",
      "    Found GPU%d %s which is of cuda capability %d.%d.\n",
      "    PyTorch no longer supports this GPU because it is too old.\n",
      "    The minimum cuda capability supported by this library is %d.%d.\n",
      "    \n",
      "  warnings.warn(old_gpu_warn.format(d, name, major, minor, min_arch // 10, min_arch % 10))\n"
     ]
    },
    {
     "data": {
      "application/vnd.jupyter.widget-view+json": {
       "model_id": "847bc4fa837a4ca1bb6a6b424ef6137a",
       "version_major": 2,
       "version_minor": 0
      },
      "text/plain": [
       "  0%|          | 0/354 [00:00<?, ?it/s]"
      ]
     },
     "metadata": {},
     "output_type": "display_data"
    },
    {
     "ename": "RuntimeError",
     "evalue": "CUDA error: no kernel image is available for execution on the device\nCUDA kernel errors might be asynchronously reported at some other API call,so the stacktrace below might be incorrect.\nFor debugging consider passing CUDA_LAUNCH_BLOCKING=1.",
     "output_type": "error",
     "traceback": [
      "\u001b[0;31m---------------------------------------------------------------------------\u001b[0m",
      "\u001b[0;31mRuntimeError\u001b[0m                              Traceback (most recent call last)",
      "\u001b[0;32m<ipython-input-15-ea19621de72a>\u001b[0m in \u001b[0;36m<module>\u001b[0;34m\u001b[0m\n\u001b[1;32m     14\u001b[0m     \u001b[0;32mif\u001b[0m \u001b[0mdebug\u001b[0m\u001b[0;34m:\u001b[0m\u001b[0;34m\u001b[0m\u001b[0;34m\u001b[0m\u001b[0m\n\u001b[1;32m     15\u001b[0m         \u001b[0;31m# Plot deepsort labels when in debug mode.\u001b[0m\u001b[0;34m\u001b[0m\u001b[0;34m\u001b[0m\u001b[0;34m\u001b[0m\u001b[0m\n\u001b[0;32m---> 16\u001b[0;31m         \u001b[0mout\u001b[0m \u001b[0;34m=\u001b[0m \u001b[0mdeepsort_helmets\u001b[0m\u001b[0;34m(\u001b[0m\u001b[0mvideo_data\u001b[0m\u001b[0;34m,\u001b[0m \u001b[0mvideo_dir\u001b[0m\u001b[0;34m,\u001b[0m \u001b[0mplot_frames\u001b[0m\u001b[0;34m=\u001b[0m\u001b[0;34m[\u001b[0m\u001b[0;36m10\u001b[0m\u001b[0;34m,\u001b[0m \u001b[0;36m150\u001b[0m\u001b[0;34m,\u001b[0m \u001b[0;36m250\u001b[0m\u001b[0;34m]\u001b[0m\u001b[0;34m)\u001b[0m\u001b[0;34m\u001b[0m\u001b[0;34m\u001b[0m\u001b[0m\n\u001b[0m\u001b[1;32m     17\u001b[0m     \u001b[0;32melse\u001b[0m\u001b[0;34m:\u001b[0m\u001b[0;34m\u001b[0m\u001b[0;34m\u001b[0m\u001b[0m\n\u001b[1;32m     18\u001b[0m         \u001b[0mout\u001b[0m \u001b[0;34m=\u001b[0m \u001b[0mdeepsort_helmets\u001b[0m\u001b[0;34m(\u001b[0m\u001b[0mvideo_data\u001b[0m\u001b[0;34m,\u001b[0m \u001b[0mvideo_dir\u001b[0m\u001b[0;34m)\u001b[0m\u001b[0;34m\u001b[0m\u001b[0;34m\u001b[0m\u001b[0m\n",
      "\u001b[0;32m<ipython-input-14-e41a602b033f>\u001b[0m in \u001b[0;36mdeepsort_helmets\u001b[0;34m(video_data, video_dir, deepsort_config, plot, plot_frames)\u001b[0m\n\u001b[1;32m     34\u001b[0m         \u001b[0mconfs\u001b[0m \u001b[0;34m=\u001b[0m \u001b[0mnp\u001b[0m\u001b[0;34m.\u001b[0m\u001b[0mones\u001b[0m\u001b[0;34m(\u001b[0m\u001b[0;34m[\u001b[0m\u001b[0mlen\u001b[0m\u001b[0;34m(\u001b[0m\u001b[0md\u001b[0m\u001b[0;34m)\u001b[0m\u001b[0;34m,\u001b[0m\u001b[0;34m]\u001b[0m\u001b[0;34m)\u001b[0m\u001b[0;34m\u001b[0m\u001b[0;34m\u001b[0m\u001b[0m\n\u001b[1;32m     35\u001b[0m         \u001b[0mclss\u001b[0m \u001b[0;34m=\u001b[0m  \u001b[0mnp\u001b[0m\u001b[0;34m.\u001b[0m\u001b[0mzeros\u001b[0m\u001b[0;34m(\u001b[0m\u001b[0;34m[\u001b[0m\u001b[0mlen\u001b[0m\u001b[0;34m(\u001b[0m\u001b[0md\u001b[0m\u001b[0;34m)\u001b[0m\u001b[0;34m,\u001b[0m\u001b[0;34m]\u001b[0m\u001b[0;34m)\u001b[0m\u001b[0;34m\u001b[0m\u001b[0;34m\u001b[0m\u001b[0m\n\u001b[0;32m---> 36\u001b[0;31m         \u001b[0moutputs\u001b[0m \u001b[0;34m=\u001b[0m \u001b[0mdeepsort\u001b[0m\u001b[0;34m.\u001b[0m\u001b[0mupdate\u001b[0m\u001b[0;34m(\u001b[0m\u001b[0mxywhs\u001b[0m\u001b[0;34m,\u001b[0m \u001b[0mconfs\u001b[0m\u001b[0;34m,\u001b[0m \u001b[0mclss\u001b[0m\u001b[0;34m,\u001b[0m \u001b[0mimage\u001b[0m\u001b[0;34m)\u001b[0m\u001b[0;34m\u001b[0m\u001b[0;34m\u001b[0m\u001b[0m\n\u001b[0m\u001b[1;32m     37\u001b[0m \u001b[0;34m\u001b[0m\u001b[0m\n\u001b[1;32m     38\u001b[0m         \u001b[0;32mif\u001b[0m \u001b[0;34m(\u001b[0m\u001b[0mplot\u001b[0m \u001b[0;32mand\u001b[0m \u001b[0mframe\u001b[0m \u001b[0;34m>\u001b[0m \u001b[0mcfg\u001b[0m\u001b[0;34m.\u001b[0m\u001b[0mDEEPSORT\u001b[0m\u001b[0;34m.\u001b[0m\u001b[0mN_INIT\u001b[0m\u001b[0;34m)\u001b[0m \u001b[0;32mor\u001b[0m \u001b[0;34m(\u001b[0m\u001b[0mframe\u001b[0m \u001b[0;32min\u001b[0m \u001b[0mplot_frames\u001b[0m\u001b[0;34m)\u001b[0m\u001b[0;34m:\u001b[0m\u001b[0;34m\u001b[0m\u001b[0;34m\u001b[0m\u001b[0m\n",
      "\u001b[0;32m/projectnb2/ece601/NFLteam/Yolov5_DeepSort_Pytorch_master/deep_sort_pytorch/deep_sort/deep_sort.py\u001b[0m in \u001b[0;36mupdate\u001b[0;34m(self, bbox_xywh, confidences, classes, ori_img)\u001b[0m\n\u001b[1;32m     26\u001b[0m         \u001b[0mself\u001b[0m\u001b[0;34m.\u001b[0m\u001b[0mheight\u001b[0m\u001b[0;34m,\u001b[0m \u001b[0mself\u001b[0m\u001b[0;34m.\u001b[0m\u001b[0mwidth\u001b[0m \u001b[0;34m=\u001b[0m \u001b[0mori_img\u001b[0m\u001b[0;34m.\u001b[0m\u001b[0mshape\u001b[0m\u001b[0;34m[\u001b[0m\u001b[0;34m:\u001b[0m\u001b[0;36m2\u001b[0m\u001b[0;34m]\u001b[0m\u001b[0;34m\u001b[0m\u001b[0;34m\u001b[0m\u001b[0m\n\u001b[1;32m     27\u001b[0m         \u001b[0;31m# generate detections\u001b[0m\u001b[0;34m\u001b[0m\u001b[0;34m\u001b[0m\u001b[0;34m\u001b[0m\u001b[0m\n\u001b[0;32m---> 28\u001b[0;31m         \u001b[0mfeatures\u001b[0m \u001b[0;34m=\u001b[0m \u001b[0mself\u001b[0m\u001b[0;34m.\u001b[0m\u001b[0m_get_features\u001b[0m\u001b[0;34m(\u001b[0m\u001b[0mbbox_xywh\u001b[0m\u001b[0;34m,\u001b[0m \u001b[0mori_img\u001b[0m\u001b[0;34m)\u001b[0m\u001b[0;34m\u001b[0m\u001b[0;34m\u001b[0m\u001b[0m\n\u001b[0m\u001b[1;32m     29\u001b[0m         \u001b[0mbbox_tlwh\u001b[0m \u001b[0;34m=\u001b[0m \u001b[0mself\u001b[0m\u001b[0;34m.\u001b[0m\u001b[0m_xywh_to_tlwh\u001b[0m\u001b[0;34m(\u001b[0m\u001b[0mbbox_xywh\u001b[0m\u001b[0;34m)\u001b[0m\u001b[0;34m\u001b[0m\u001b[0;34m\u001b[0m\u001b[0m\n\u001b[1;32m     30\u001b[0m         detections = [Detection(bbox_tlwh[i], conf, features[i]) for i, conf in enumerate(\n",
      "\u001b[0;32m/projectnb2/ece601/NFLteam/Yolov5_DeepSort_Pytorch_master/deep_sort_pytorch/deep_sort/deep_sort.py\u001b[0m in \u001b[0;36m_get_features\u001b[0;34m(self, bbox_xywh, ori_img)\u001b[0m\n\u001b[1;32m    108\u001b[0m             \u001b[0mim_crops\u001b[0m\u001b[0;34m.\u001b[0m\u001b[0mappend\u001b[0m\u001b[0;34m(\u001b[0m\u001b[0mim\u001b[0m\u001b[0;34m)\u001b[0m\u001b[0;34m\u001b[0m\u001b[0;34m\u001b[0m\u001b[0m\n\u001b[1;32m    109\u001b[0m         \u001b[0;32mif\u001b[0m \u001b[0mim_crops\u001b[0m\u001b[0;34m:\u001b[0m\u001b[0;34m\u001b[0m\u001b[0;34m\u001b[0m\u001b[0m\n\u001b[0;32m--> 110\u001b[0;31m             \u001b[0mfeatures\u001b[0m \u001b[0;34m=\u001b[0m \u001b[0mself\u001b[0m\u001b[0;34m.\u001b[0m\u001b[0mextractor\u001b[0m\u001b[0;34m(\u001b[0m\u001b[0mim_crops\u001b[0m\u001b[0;34m)\u001b[0m\u001b[0;34m\u001b[0m\u001b[0;34m\u001b[0m\u001b[0m\n\u001b[0m\u001b[1;32m    111\u001b[0m         \u001b[0;32melse\u001b[0m\u001b[0;34m:\u001b[0m\u001b[0;34m\u001b[0m\u001b[0;34m\u001b[0m\u001b[0m\n\u001b[1;32m    112\u001b[0m             \u001b[0mfeatures\u001b[0m \u001b[0;34m=\u001b[0m \u001b[0mnp\u001b[0m\u001b[0;34m.\u001b[0m\u001b[0marray\u001b[0m\u001b[0;34m(\u001b[0m\u001b[0;34m[\u001b[0m\u001b[0;34m]\u001b[0m\u001b[0;34m)\u001b[0m\u001b[0;34m\u001b[0m\u001b[0;34m\u001b[0m\u001b[0m\n",
      "\u001b[0;32m/projectnb2/ece601/NFLteam/Yolov5_DeepSort_Pytorch_master/deep_sort_pytorch/deep_sort/deep/feature_extractor.py\u001b[0m in \u001b[0;36m__call__\u001b[0;34m(self, im_crops)\u001b[0m\n\u001b[1;32m     44\u001b[0m         \u001b[0;32mwith\u001b[0m \u001b[0mtorch\u001b[0m\u001b[0;34m.\u001b[0m\u001b[0mno_grad\u001b[0m\u001b[0;34m(\u001b[0m\u001b[0;34m)\u001b[0m\u001b[0;34m:\u001b[0m\u001b[0;34m\u001b[0m\u001b[0;34m\u001b[0m\u001b[0m\n\u001b[1;32m     45\u001b[0m             \u001b[0mim_batch\u001b[0m \u001b[0;34m=\u001b[0m \u001b[0mim_batch\u001b[0m\u001b[0;34m.\u001b[0m\u001b[0mto\u001b[0m\u001b[0;34m(\u001b[0m\u001b[0mself\u001b[0m\u001b[0;34m.\u001b[0m\u001b[0mdevice\u001b[0m\u001b[0;34m)\u001b[0m\u001b[0;34m\u001b[0m\u001b[0;34m\u001b[0m\u001b[0m\n\u001b[0;32m---> 46\u001b[0;31m             \u001b[0mfeatures\u001b[0m \u001b[0;34m=\u001b[0m \u001b[0mself\u001b[0m\u001b[0;34m.\u001b[0m\u001b[0mnet\u001b[0m\u001b[0;34m(\u001b[0m\u001b[0mim_batch\u001b[0m\u001b[0;34m)\u001b[0m\u001b[0;34m\u001b[0m\u001b[0;34m\u001b[0m\u001b[0m\n\u001b[0m\u001b[1;32m     47\u001b[0m         \u001b[0;32mreturn\u001b[0m \u001b[0mfeatures\u001b[0m\u001b[0;34m.\u001b[0m\u001b[0mcpu\u001b[0m\u001b[0;34m(\u001b[0m\u001b[0;34m)\u001b[0m\u001b[0;34m.\u001b[0m\u001b[0mnumpy\u001b[0m\u001b[0;34m(\u001b[0m\u001b[0;34m)\u001b[0m\u001b[0;34m\u001b[0m\u001b[0;34m\u001b[0m\u001b[0m\n\u001b[1;32m     48\u001b[0m \u001b[0;34m\u001b[0m\u001b[0m\n",
      "\u001b[0;32m/share/pkg.7/pytorch/1.9.0/install/lib/python3.8/site-packages/torch/nn/modules/module.py\u001b[0m in \u001b[0;36m_call_impl\u001b[0;34m(self, *input, **kwargs)\u001b[0m\n\u001b[1;32m   1049\u001b[0m         if not (self._backward_hooks or self._forward_hooks or self._forward_pre_hooks or _global_backward_hooks\n\u001b[1;32m   1050\u001b[0m                 or _global_forward_hooks or _global_forward_pre_hooks):\n\u001b[0;32m-> 1051\u001b[0;31m             \u001b[0;32mreturn\u001b[0m \u001b[0mforward_call\u001b[0m\u001b[0;34m(\u001b[0m\u001b[0;34m*\u001b[0m\u001b[0minput\u001b[0m\u001b[0;34m,\u001b[0m \u001b[0;34m**\u001b[0m\u001b[0mkwargs\u001b[0m\u001b[0;34m)\u001b[0m\u001b[0;34m\u001b[0m\u001b[0;34m\u001b[0m\u001b[0m\n\u001b[0m\u001b[1;32m   1052\u001b[0m         \u001b[0;31m# Do not call functions when jit is used\u001b[0m\u001b[0;34m\u001b[0m\u001b[0;34m\u001b[0m\u001b[0;34m\u001b[0m\u001b[0m\n\u001b[1;32m   1053\u001b[0m         \u001b[0mfull_backward_hooks\u001b[0m\u001b[0;34m,\u001b[0m \u001b[0mnon_full_backward_hooks\u001b[0m \u001b[0;34m=\u001b[0m \u001b[0;34m[\u001b[0m\u001b[0;34m]\u001b[0m\u001b[0;34m,\u001b[0m \u001b[0;34m[\u001b[0m\u001b[0;34m]\u001b[0m\u001b[0;34m\u001b[0m\u001b[0;34m\u001b[0m\u001b[0m\n",
      "\u001b[0;32m/projectnb2/ece601/NFLteam/Yolov5_DeepSort_Pytorch_master/deep_sort_pytorch/deep_sort/deep/model.py\u001b[0m in \u001b[0;36mforward\u001b[0;34m(self, x)\u001b[0m\n\u001b[1;32m     86\u001b[0m \u001b[0;34m\u001b[0m\u001b[0m\n\u001b[1;32m     87\u001b[0m     \u001b[0;32mdef\u001b[0m \u001b[0mforward\u001b[0m\u001b[0;34m(\u001b[0m\u001b[0mself\u001b[0m\u001b[0;34m,\u001b[0m \u001b[0mx\u001b[0m\u001b[0;34m)\u001b[0m\u001b[0;34m:\u001b[0m\u001b[0;34m\u001b[0m\u001b[0;34m\u001b[0m\u001b[0m\n\u001b[0;32m---> 88\u001b[0;31m         \u001b[0mx\u001b[0m \u001b[0;34m=\u001b[0m \u001b[0mself\u001b[0m\u001b[0;34m.\u001b[0m\u001b[0mconv\u001b[0m\u001b[0;34m(\u001b[0m\u001b[0mx\u001b[0m\u001b[0;34m)\u001b[0m\u001b[0;34m\u001b[0m\u001b[0;34m\u001b[0m\u001b[0m\n\u001b[0m\u001b[1;32m     89\u001b[0m         \u001b[0mx\u001b[0m \u001b[0;34m=\u001b[0m \u001b[0mself\u001b[0m\u001b[0;34m.\u001b[0m\u001b[0mlayer1\u001b[0m\u001b[0;34m(\u001b[0m\u001b[0mx\u001b[0m\u001b[0;34m)\u001b[0m\u001b[0;34m\u001b[0m\u001b[0;34m\u001b[0m\u001b[0m\n\u001b[1;32m     90\u001b[0m         \u001b[0mx\u001b[0m \u001b[0;34m=\u001b[0m \u001b[0mself\u001b[0m\u001b[0;34m.\u001b[0m\u001b[0mlayer2\u001b[0m\u001b[0;34m(\u001b[0m\u001b[0mx\u001b[0m\u001b[0;34m)\u001b[0m\u001b[0;34m\u001b[0m\u001b[0;34m\u001b[0m\u001b[0m\n",
      "\u001b[0;32m/share/pkg.7/pytorch/1.9.0/install/lib/python3.8/site-packages/torch/nn/modules/module.py\u001b[0m in \u001b[0;36m_call_impl\u001b[0;34m(self, *input, **kwargs)\u001b[0m\n\u001b[1;32m   1049\u001b[0m         if not (self._backward_hooks or self._forward_hooks or self._forward_pre_hooks or _global_backward_hooks\n\u001b[1;32m   1050\u001b[0m                 or _global_forward_hooks or _global_forward_pre_hooks):\n\u001b[0;32m-> 1051\u001b[0;31m             \u001b[0;32mreturn\u001b[0m \u001b[0mforward_call\u001b[0m\u001b[0;34m(\u001b[0m\u001b[0;34m*\u001b[0m\u001b[0minput\u001b[0m\u001b[0;34m,\u001b[0m \u001b[0;34m**\u001b[0m\u001b[0mkwargs\u001b[0m\u001b[0;34m)\u001b[0m\u001b[0;34m\u001b[0m\u001b[0;34m\u001b[0m\u001b[0m\n\u001b[0m\u001b[1;32m   1052\u001b[0m         \u001b[0;31m# Do not call functions when jit is used\u001b[0m\u001b[0;34m\u001b[0m\u001b[0;34m\u001b[0m\u001b[0;34m\u001b[0m\u001b[0m\n\u001b[1;32m   1053\u001b[0m         \u001b[0mfull_backward_hooks\u001b[0m\u001b[0;34m,\u001b[0m \u001b[0mnon_full_backward_hooks\u001b[0m \u001b[0;34m=\u001b[0m \u001b[0;34m[\u001b[0m\u001b[0;34m]\u001b[0m\u001b[0;34m,\u001b[0m \u001b[0;34m[\u001b[0m\u001b[0;34m]\u001b[0m\u001b[0;34m\u001b[0m\u001b[0;34m\u001b[0m\u001b[0m\n",
      "\u001b[0;32m/share/pkg.7/pytorch/1.9.0/install/lib/python3.8/site-packages/torch/nn/modules/container.py\u001b[0m in \u001b[0;36mforward\u001b[0;34m(self, input)\u001b[0m\n\u001b[1;32m    137\u001b[0m     \u001b[0;32mdef\u001b[0m \u001b[0mforward\u001b[0m\u001b[0;34m(\u001b[0m\u001b[0mself\u001b[0m\u001b[0;34m,\u001b[0m \u001b[0minput\u001b[0m\u001b[0;34m)\u001b[0m\u001b[0;34m:\u001b[0m\u001b[0;34m\u001b[0m\u001b[0;34m\u001b[0m\u001b[0m\n\u001b[1;32m    138\u001b[0m         \u001b[0;32mfor\u001b[0m \u001b[0mmodule\u001b[0m \u001b[0;32min\u001b[0m \u001b[0mself\u001b[0m\u001b[0;34m:\u001b[0m\u001b[0;34m\u001b[0m\u001b[0;34m\u001b[0m\u001b[0m\n\u001b[0;32m--> 139\u001b[0;31m             \u001b[0minput\u001b[0m \u001b[0;34m=\u001b[0m \u001b[0mmodule\u001b[0m\u001b[0;34m(\u001b[0m\u001b[0minput\u001b[0m\u001b[0;34m)\u001b[0m\u001b[0;34m\u001b[0m\u001b[0;34m\u001b[0m\u001b[0m\n\u001b[0m\u001b[1;32m    140\u001b[0m         \u001b[0;32mreturn\u001b[0m \u001b[0minput\u001b[0m\u001b[0;34m\u001b[0m\u001b[0;34m\u001b[0m\u001b[0m\n\u001b[1;32m    141\u001b[0m \u001b[0;34m\u001b[0m\u001b[0m\n",
      "\u001b[0;32m/share/pkg.7/pytorch/1.9.0/install/lib/python3.8/site-packages/torch/nn/modules/module.py\u001b[0m in \u001b[0;36m_call_impl\u001b[0;34m(self, *input, **kwargs)\u001b[0m\n\u001b[1;32m   1049\u001b[0m         if not (self._backward_hooks or self._forward_hooks or self._forward_pre_hooks or _global_backward_hooks\n\u001b[1;32m   1050\u001b[0m                 or _global_forward_hooks or _global_forward_pre_hooks):\n\u001b[0;32m-> 1051\u001b[0;31m             \u001b[0;32mreturn\u001b[0m \u001b[0mforward_call\u001b[0m\u001b[0;34m(\u001b[0m\u001b[0;34m*\u001b[0m\u001b[0minput\u001b[0m\u001b[0;34m,\u001b[0m \u001b[0;34m**\u001b[0m\u001b[0mkwargs\u001b[0m\u001b[0;34m)\u001b[0m\u001b[0;34m\u001b[0m\u001b[0;34m\u001b[0m\u001b[0m\n\u001b[0m\u001b[1;32m   1052\u001b[0m         \u001b[0;31m# Do not call functions when jit is used\u001b[0m\u001b[0;34m\u001b[0m\u001b[0;34m\u001b[0m\u001b[0;34m\u001b[0m\u001b[0m\n\u001b[1;32m   1053\u001b[0m         \u001b[0mfull_backward_hooks\u001b[0m\u001b[0;34m,\u001b[0m \u001b[0mnon_full_backward_hooks\u001b[0m \u001b[0;34m=\u001b[0m \u001b[0;34m[\u001b[0m\u001b[0;34m]\u001b[0m\u001b[0;34m,\u001b[0m \u001b[0;34m[\u001b[0m\u001b[0;34m]\u001b[0m\u001b[0;34m\u001b[0m\u001b[0;34m\u001b[0m\u001b[0m\n",
      "\u001b[0;32m/share/pkg.7/pytorch/1.9.0/install/lib/python3.8/site-packages/torch/nn/modules/conv.py\u001b[0m in \u001b[0;36mforward\u001b[0;34m(self, input)\u001b[0m\n\u001b[1;32m    441\u001b[0m \u001b[0;34m\u001b[0m\u001b[0m\n\u001b[1;32m    442\u001b[0m     \u001b[0;32mdef\u001b[0m \u001b[0mforward\u001b[0m\u001b[0;34m(\u001b[0m\u001b[0mself\u001b[0m\u001b[0;34m,\u001b[0m \u001b[0minput\u001b[0m\u001b[0;34m:\u001b[0m \u001b[0mTensor\u001b[0m\u001b[0;34m)\u001b[0m \u001b[0;34m->\u001b[0m \u001b[0mTensor\u001b[0m\u001b[0;34m:\u001b[0m\u001b[0;34m\u001b[0m\u001b[0;34m\u001b[0m\u001b[0m\n\u001b[0;32m--> 443\u001b[0;31m         \u001b[0;32mreturn\u001b[0m \u001b[0mself\u001b[0m\u001b[0;34m.\u001b[0m\u001b[0m_conv_forward\u001b[0m\u001b[0;34m(\u001b[0m\u001b[0minput\u001b[0m\u001b[0;34m,\u001b[0m \u001b[0mself\u001b[0m\u001b[0;34m.\u001b[0m\u001b[0mweight\u001b[0m\u001b[0;34m,\u001b[0m \u001b[0mself\u001b[0m\u001b[0;34m.\u001b[0m\u001b[0mbias\u001b[0m\u001b[0;34m)\u001b[0m\u001b[0;34m\u001b[0m\u001b[0;34m\u001b[0m\u001b[0m\n\u001b[0m\u001b[1;32m    444\u001b[0m \u001b[0;34m\u001b[0m\u001b[0m\n\u001b[1;32m    445\u001b[0m \u001b[0;32mclass\u001b[0m \u001b[0mConv3d\u001b[0m\u001b[0;34m(\u001b[0m\u001b[0m_ConvNd\u001b[0m\u001b[0;34m)\u001b[0m\u001b[0;34m:\u001b[0m\u001b[0;34m\u001b[0m\u001b[0;34m\u001b[0m\u001b[0m\n",
      "\u001b[0;32m/share/pkg.7/pytorch/1.9.0/install/lib/python3.8/site-packages/torch/nn/modules/conv.py\u001b[0m in \u001b[0;36m_conv_forward\u001b[0;34m(self, input, weight, bias)\u001b[0m\n\u001b[1;32m    437\u001b[0m                             \u001b[0mweight\u001b[0m\u001b[0;34m,\u001b[0m \u001b[0mbias\u001b[0m\u001b[0;34m,\u001b[0m \u001b[0mself\u001b[0m\u001b[0;34m.\u001b[0m\u001b[0mstride\u001b[0m\u001b[0;34m,\u001b[0m\u001b[0;34m\u001b[0m\u001b[0;34m\u001b[0m\u001b[0m\n\u001b[1;32m    438\u001b[0m                             _pair(0), self.dilation, self.groups)\n\u001b[0;32m--> 439\u001b[0;31m         return F.conv2d(input, weight, bias, self.stride,\n\u001b[0m\u001b[1;32m    440\u001b[0m                         self.padding, self.dilation, self.groups)\n\u001b[1;32m    441\u001b[0m \u001b[0;34m\u001b[0m\u001b[0m\n",
      "\u001b[0;31mRuntimeError\u001b[0m: CUDA error: no kernel image is available for execution on the device\nCUDA kernel errors might be asynchronously reported at some other API call,so the stacktrace below might be incorrect.\nFor debugging consider passing CUDA_LAUNCH_BLOCKING=1."
     ]
    }
   ],
   "source": [
    "# Add video and frame columns to submission.\n",
    "submission_df['video'] = submission_df['video_frame'].str.split('_').str[:3].str.join('_')\n",
    "submission_df['frame'] = submission_df['video_frame'].str.split('_').str[-1].astype('int')\n",
    "\n",
    "if debug:\n",
    "    video_dir = '/projectnb/ece601/NFLteam/nfl-health-and-safety-helmet-assignment/train/'\n",
    "else:\n",
    "    video_dir = '/projectnb/ece601/NFLteam/nfl-health-and-safety-helmet-assignment/test/'\n",
    "\n",
    "# Loop through test videos and apply. If in debug mode show the score change.\n",
    "outs = []\n",
    "for myvideo, video_data in tqdm(submission_df.groupby('video'), total=submission_df['video'].nunique()):\n",
    "    print(f'==== {myvideo} ====')\n",
    "    if debug:\n",
    "        # Plot deepsort labels when in debug mode.\n",
    "        out = deepsort_helmets(video_data, video_dir, plot_frames=[10, 150, 250])\n",
    "    else:\n",
    "        out = deepsort_helmets(video_data, video_dir)        \n",
    "    out = add_deepsort_label_col(out)\n",
    "    outs.append(out)\n",
    "    if debug:\n",
    "        # Score\n",
    "        score_vs_deepsort(myvideo, out, labels)\n",
    "submission_deepsort = pd.concat(outs).copy()\n"
   ]
  },
  {
   "cell_type": "markdown",
   "metadata": {},
   "source": [
    "Save our output to a csv file"
   ]
  },
  {
   "cell_type": "code",
   "execution_count": null,
   "metadata": {},
   "outputs": [],
   "source": [
    "ss = pd.read_csv('/projectnb/ece601/NFLteam/nfl-health-and-safety-helmet-assignment/sample_submission.csv')\n",
    "# Final Checks\n",
    "submission_deepsort['label_deepsort'] = submission_deepsort['label_deepsort'] \\\n",
    "    .fillna(submission_deepsort['label'])\n",
    "submission_deepsort = submission_deepsort.drop('label', axis=1) \\\n",
    "    .rename(columns={'label_deepsort':'label'})[ss.columns]\n",
    "# Drop duplicate labels\n",
    "submission_deepsort = submission_deepsort.loc[\n",
    "    ~submission_deepsort[['video_frame','label']].duplicated()]\n",
    "check_submission(submission_deepsort)\n",
    "\n",
    "submission_deepsort.to_csv('ECE601NFL_Team.csv', index=False)"
   ]
  },
  {
   "cell_type": "markdown",
   "metadata": {},
   "source": [
    "Output the video"
   ]
  },
  {
   "cell_type": "code",
   "execution_count": null,
   "metadata": {},
   "outputs": [],
   "source": [
    "from helmet_assignment.video import video_with_predictions\n",
    "from IPython.display import Video, display\n",
    "\n",
    "if debug:\n",
    "    submission_deepsort['video'] = submission_deepsort['video_frame'].str.split('_').str[:3].str.join('_') + '.mp4'\n",
    "    debug_videos = submission_deepsort['video'].unique()\n",
    "    debug_labels = labels.query('video in @debug_videos')\n",
    "    scorer = NFLAssignmentScorer(debug_labels)\n",
    "    scorer.score(submission_deepsort)\n",
    "    \n",
    "    # Create video showing predictions for one of the videos.\n",
    "    video_out = video_with_predictions(\n",
    "        f'/projectnb/ece601/NFLteam/nfl-health-and-safety-helmet-assignment/train/{debug_videos[0]}',\n",
    "        scorer.sub_labels)\n",
    "    \n",
    "    frac = 0.60 # scaling factor for display\n",
    "    display(Video(data=video_out,\n",
    "                  embed=True,\n",
    "                  height=int(720*frac),\n",
    "                  width=int(1280*frac))\n",
    "           )"
   ]
  },
  {
   "cell_type": "code",
   "execution_count": null,
   "metadata": {},
   "outputs": [],
   "source": []
  },
  {
   "cell_type": "code",
   "execution_count": null,
   "metadata": {},
   "outputs": [],
   "source": []
  }
 ],
 "metadata": {
  "kernelspec": {
   "display_name": "Python 3",
   "language": "python",
   "name": "python3"
  },
  "language_info": {
   "codemirror_mode": {
    "name": "ipython",
    "version": 3
   },
   "file_extension": ".py",
   "mimetype": "text/x-python",
   "name": "python",
   "nbconvert_exporter": "python",
   "pygments_lexer": "ipython3",
   "version": "3.8.10"
  }
 },
 "nbformat": 4,
 "nbformat_minor": 4
}
